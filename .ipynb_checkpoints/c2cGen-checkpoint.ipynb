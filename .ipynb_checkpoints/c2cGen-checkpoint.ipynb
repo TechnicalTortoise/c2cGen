{
 "cells": [
  {
   "cell_type": "code",
   "execution_count": 68,
   "id": "90377d76",
   "metadata": {},
   "outputs": [],
   "source": [
    "import cv2\n",
    "import numpy as np\n",
    "import matplotlib.pyplot as plt"
   ]
  },
  {
   "cell_type": "markdown",
   "id": "a6c1521d",
   "metadata": {},
   "source": [
    "# First, set the path to the image to use and the number of colours"
   ]
  },
  {
   "cell_type": "code",
   "execution_count": 108,
   "id": "b18eb5b7",
   "metadata": {},
   "outputs": [],
   "source": [
    "imagePath = \"testImage.png\"\n",
    "completedPatternPath = \"testImagePattern.txt\"\n",
    "noOfColours = 3"
   ]
  },
  {
   "cell_type": "markdown",
   "id": "5b2f9cb4",
   "metadata": {},
   "source": [
    "# Apply K means clustering to split the image into the correct number of colours"
   ]
  },
  {
   "cell_type": "code",
   "execution_count": 109,
   "id": "f5adb1a6",
   "metadata": {},
   "outputs": [
    {
     "data": {
      "image/png": "[encoded data removed]",
      "text/plain": [
       "<Figure size 432x288 with 1 Axes>"
      ]
     },
     "metadata": {
      "needs_background": "light"
     },
     "output_type": "display_data"
    }
   ],
   "source": [
    "image = cv2.imread(imagePath)\n",
    "# https://www.thepythoncode.com/article/kmeans-for-image-segmentation-opencv-python\n",
    "imageRGB = cv2.cvtColor(image, cv2.COLOR_BGR2RGB)\n",
    "pixelValues = np.float32(imageRGB.reshape((-1, 3)))\n",
    "criteria = (cv2.TERM_CRITERIA_EPS + cv2.TERM_CRITERIA_MAX_ITER, 100, 0.2)\n",
    "_, labels, (centers) = cv2.kmeans(pixelValues, noOfColours, None, criteria, 10, cv2.KMEANS_RANDOM_CENTERS)\n",
    "centers = np.uint8(centers)\n",
    "labels = labels.flatten()\n",
    "segmentedImage = centers[labels]\n",
    "segmentedImage = segmentedImage.reshape(image.shape)\n",
    "plt.imshow(segmentedImage)\n",
    "plt.show()\n",
    "# should show up as the input image with the given number of colours"
   ]
  },
  {
   "cell_type": "markdown",
   "id": "3542399b",
   "metadata": {},
   "source": [
    "# Assign names to the colours"
   ]
  },
  {
   "cell_type": "code",
   "execution_count": 110,
   "id": "5cc3556d",
   "metadata": {
    "scrolled": true
   },
   "outputs": [
    {
     "data": {
      "image/png": "[encoded data removed]",
      "text/plain": [
       "<Figure size 432x288 with 1 Axes>"
      ]
     },
     "metadata": {
      "needs_background": "light"
     },
     "output_type": "display_data"
    }
   ],
   "source": [
    "squareSize = 1\n",
    "testImage = np.zeros((squareSize * noOfColours, squareSize, 3), dtype=np.uint8)\n",
    "for i in range(noOfColours):\n",
    "    testImage[i:i+squareSize, :] = centers[i]\n",
    "plt.imshow(testImage)\n",
    "plt.title(str(noOfColours) + \" extracted colours\")\n",
    "plt.show()"
   ]
  },
  {
   "cell_type": "code",
   "execution_count": 100,
   "id": "1525b910",
   "metadata": {},
   "outputs": [],
   "source": [
    "# Enter colour names in order of where they appear in the plot above (top colour first, second colour second etc)\n",
    "colourNames = ['B', 'Y', 'W']\n",
    "assert len(colourNames) == noOfColours, \"Set the names of colours as they should appear on the pattern. Number of names given does not match how many colours where extracted.\""
   ]
  },
  {
   "cell_type": "code",
   "execution_count": 101,
   "id": "ac90f129",
   "metadata": {},
   "outputs": [],
   "source": [
    "# convert image to an array of the same shape, but with the element being the colour name\n",
    "height = image.shape[0]\n",
    "width = image.shape[1]\n",
    "colourNameImage = np.zeros((height, width), dtype=object)\n",
    "for j in range(height):\n",
    "    for i in range(width):\n",
    "        # find corresponding colour\n",
    "        colourIndex = 0\n",
    "        foundColour = False\n",
    "        for k in range(noOfColours):\n",
    "            if (segmentedImage[j, i] == centers[k]).all():\n",
    "                colourIndex = k\n",
    "                foundColour = True\n",
    "                break\n",
    "        if foundColour:\n",
    "            colourNameImage[j, i] = colourNames[colourIndex]\n",
    "        else:\n",
    "            assert False, \"Something went wrong at \" + str(i) + \",\" + str(j)"
   ]
  },
  {
   "cell_type": "code",
   "execution_count": 102,
   "id": "77e07c75",
   "metadata": {},
   "outputs": [
    {
     "name": "stdout",
     "output_type": "stream",
     "text": [
      "1: INCW (total row count=1)\n",
      "2: INCW 1W (total row count=2)\n",
      "3: INCY 2Y (total row count=3)\n",
      "4: INCY 3Y (total row count=4)\n",
      "5: INCY 4Y (total row count=5)\n",
      "6: INCY 1Y, 2B, 2Y (total row count=6)\n",
      "7: INCW 1Y, 1B, 3Y, 1W (total row count=7)\n",
      "8: INCW 1Y, 1B, 4Y, 1W (total row count=8)\n",
      "9: DECW 1Y, 1B, 3Y, 1W (total row count=7)\n",
      "10: DECY 5Y (total row count=6)\n",
      "11: DECY 1Y, 1B, 2Y (total row count=5)\n",
      "12: DECY 3Y (total row count=4)\n",
      "13: DECY 2Y (total row count=3)\n",
      "14: DECW 1W (total row count=2)\n",
      "15: DECW (total row count=1)\n",
      "\n"
     ]
    }
   ],
   "source": [
    "\n",
    "finishedPattern = False\n",
    "pattern = \"\"\n",
    "file = open(completedPatternPath, 'w')\n",
    "\n",
    "# start at the bottom right\n",
    "x = width - 1\n",
    "y = height - 1\n",
    "xstep = 1\n",
    "ystep = -1\n",
    "row = 0\n",
    "startType = \"INC\"\n",
    "\n",
    "while not finishedPattern:\n",
    "    finishedDiagonal = False\n",
    "    line = []\n",
    "    while not finishedDiagonal:\n",
    "        colour = colourNameImage[y, x]\n",
    "        line.append(colour)\n",
    "        if x == 0 and y == 0:\n",
    "            finishedDiagonal = True\n",
    "            finishedPattern = True\n",
    "        x += xstep\n",
    "        y += ystep\n",
    "        \n",
    "        if x >= width and y < 0:\n",
    "            # top right corner\n",
    "            finishedDiagonal = True\n",
    "            x -= 2 * xstep\n",
    "            y -= ystep\n",
    "            nextStartType = \"DEC\"\n",
    "        elif x >= width and y >= 0:\n",
    "            # bottom right area, off the right\n",
    "            finishedDiagonal = True\n",
    "            x -= xstep\n",
    "            nextStartType = \"INC\"\n",
    "        elif x >= 0 and y >= height:\n",
    "            # bottom right, off the bottom\n",
    "            finishedDiagonal = True\n",
    "            y -= ystep\n",
    "            nextStartType = \"INC\"\n",
    "        elif x < 0:\n",
    "            # left\n",
    "            finishedDiagonal = True\n",
    "            x -= xstep\n",
    "            y -= 2 * ystep\n",
    "            nextStartType = \"DEC\"\n",
    "        elif y < 0:\n",
    "            # top\n",
    "            finishedDiagonal = True\n",
    "            x -= 2 * xstep\n",
    "            y -= ystep\n",
    "            nextStartType = \"DEC\"\n",
    "\n",
    "    # have finished diagonal at this point\n",
    "    xstep *= -1\n",
    "    ystep *= -1\n",
    "    row += 1\n",
    "    currentColour = line[0]\n",
    "    currentColourCount = 0\n",
    "    formattedLine = str(row) + \": \" + startType + str(currentColour)\n",
    "    for i in range(1, len(line)):\n",
    "        if line[i] == currentColour:\n",
    "            currentColourCount += 1\n",
    "        else:\n",
    "            if currentColourCount > 0:\n",
    "                formattedLine += \" \" + str(currentColourCount) + str(currentColour) + \",\"\n",
    "            currentColour = line[i]\n",
    "            currentColourCount = 1\n",
    "    if currentColourCount > 0:\n",
    "        formattedLine += \" \" + str(currentColourCount) + str(currentColour)\n",
    "    pattern += formattedLine + \" (total row count=\" + str(len(line)) + \")\" + \"\\n\"\n",
    "    startType = nextStartType\n",
    "print(pattern)\n",
    "file.write(pattern)\n",
    "file.close()"
   ]
  },
  {
   "cell_type": "code",
   "execution_count": null,
   "id": "70ce6f52",
   "metadata": {},
   "outputs": [],
   "source": []
  },
  {
   "cell_type": "code",
   "execution_count": null,
   "id": "a76007fa",
   "metadata": {},
   "outputs": [],
   "source": []
  }
 ],
 "metadata": {
  "kernelspec": {
   "display_name": "Python 3 (ipykernel)",
   "language": "python",
   "name": "python3"
  },
  "language_info": {
   "codemirror_mode": {
    "name": "ipython",
    "version": 3
   },
   "file_extension": ".py",
   "mimetype": "text/x-python",
   "name": "python",
   "nbconvert_exporter": "python",
   "pygments_lexer": "ipython3",
   "version": "3.9.7"
  }
 },
 "nbformat": 4,
 "nbformat_minor": 5
}
